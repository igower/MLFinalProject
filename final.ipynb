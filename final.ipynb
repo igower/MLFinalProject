{
 "cells": [
  {
   "cell_type": "code",
   "execution_count": null,
   "metadata": {},
   "outputs": [],
   "source": [
    "#installs\n",
    "!pip3 install requests"
   ]
  },
  {
   "cell_type": "markdown",
   "metadata": {},
   "source": [
    "## Imports"
   ]
  },
  {
   "cell_type": "code",
   "execution_count": 117,
   "metadata": {},
   "outputs": [],
   "source": [
    "import pandas as pd\n",
    "import requests\n",
    "from sklearn.preprocessing import LabelEncoder\n",
    "from sklearn.preprocessing import StandardScaler\n"
   ]
  },
  {
   "cell_type": "markdown",
   "metadata": {},
   "source": [
    "## Load Dataset"
   ]
  },
  {
   "cell_type": "code",
   "execution_count": null,
   "metadata": {},
   "outputs": [
    {
     "name": "stdout",
     "output_type": "stream",
     "text": [
      "['duration', 'protocol_type', 'service', 'flag', 'src_bytes', 'dst_bytes', 'land', 'wrong_fragment', 'urgent', 'hot', 'num_failed_logins', 'logged_in', 'num_compromised', 'root_shell', 'su_attempted', 'num_root', 'num_file_creations', 'num_shells', 'num_access_files', 'num_outbound_cmds', 'is_host_login', 'is_guest_login', 'count', 'srv_count', 'serror_rate', 'srv_serror_rate', 'rerror_rate', 'srv_rerror_rate', 'same_srv_rate', 'diff_srv_rate', 'srv_diff_host_rate', 'dst_host_count', 'dst_host_srv_count', 'dst_host_same_srv_rate', 'dst_host_diff_srv_rate', 'dst_host_same_src_port_rate', 'dst_host_srv_diff_host_rate', 'dst_host_serror_rate', 'dst_host_srv_serror_rate', 'dst_host_rerror_rate', 'dst_host_srv_rerror_rate', 'label']\n",
      "Total columns: 42\n"
     ]
    }
   ],
   "source": [
    "#load column names\n",
    "url = \"http://kdd.ics.uci.edu/databases/kddcup99/kddcup.names\"\n",
    "response = requests.get(url)\n",
    "lines = response.text.splitlines()\n",
    "\n",
    "columns = []\n",
    "\n",
    "for line in lines:\n",
    "    if ':' in line:\n",
    "        col = line.split(':')[0].strip()\n",
    "        columns.append(col)\n",
    "\n",
    "columns.append('label') \n",
    "\n",
    "print(columns)\n",
    "print(f\"Total columns: {len(columns)}\")"
   ]
  },
  {
   "cell_type": "code",
   "execution_count": null,
   "metadata": {},
   "outputs": [
    {
     "name": "stdout",
     "output_type": "stream",
     "text": [
      "   duration protocol_type service flag  src_bytes  dst_bytes  land  \\\n",
      "0         0           tcp    http   SF        181       5450     0   \n",
      "1         0           tcp    http   SF        239        486     0   \n",
      "2         0           tcp    http   SF        235       1337     0   \n",
      "3         0           tcp    http   SF        219       1337     0   \n",
      "4         0           tcp    http   SF        217       2032     0   \n",
      "\n",
      "   wrong_fragment  urgent  hot  ...  dst_host_srv_count  \\\n",
      "0               0       0    0  ...                   9   \n",
      "1               0       0    0  ...                  19   \n",
      "2               0       0    0  ...                  29   \n",
      "3               0       0    0  ...                  39   \n",
      "4               0       0    0  ...                  49   \n",
      "\n",
      "   dst_host_same_srv_rate  dst_host_diff_srv_rate  \\\n",
      "0                     1.0                     0.0   \n",
      "1                     1.0                     0.0   \n",
      "2                     1.0                     0.0   \n",
      "3                     1.0                     0.0   \n",
      "4                     1.0                     0.0   \n",
      "\n",
      "   dst_host_same_src_port_rate  dst_host_srv_diff_host_rate  \\\n",
      "0                         0.11                          0.0   \n",
      "1                         0.05                          0.0   \n",
      "2                         0.03                          0.0   \n",
      "3                         0.03                          0.0   \n",
      "4                         0.02                          0.0   \n",
      "\n",
      "   dst_host_serror_rate  dst_host_srv_serror_rate  dst_host_rerror_rate  \\\n",
      "0                   0.0                       0.0                   0.0   \n",
      "1                   0.0                       0.0                   0.0   \n",
      "2                   0.0                       0.0                   0.0   \n",
      "3                   0.0                       0.0                   0.0   \n",
      "4                   0.0                       0.0                   0.0   \n",
      "\n",
      "   dst_host_srv_rerror_rate    label  \n",
      "0                       0.0  normal.  \n",
      "1                       0.0  normal.  \n",
      "2                       0.0  normal.  \n",
      "3                       0.0  normal.  \n",
      "4                       0.0  normal.  \n",
      "\n",
      "[5 rows x 42 columns]\n"
     ]
    }
   ],
   "source": [
    "#load dataset and attach column names\n",
    "url = \"https://kdd.ics.uci.edu/databases/kddcup99/kddcup.data_10_percent.gz\"\n",
    "df = pd.read_csv(url, names = columns)\n",
    "print(df.head())"
   ]
  },
  {
   "cell_type": "code",
   "execution_count": 106,
   "metadata": {},
   "outputs": [
    {
     "name": "stdout",
     "output_type": "stream",
     "text": [
      "Shape:\n",
      "(494021, 42)\n",
      "Columns:\n",
      "Index(['duration', 'protocol_type', 'service', 'flag', 'src_bytes',\n",
      "       'dst_bytes', 'land', 'wrong_fragment', 'urgent', 'hot',\n",
      "       'num_failed_logins', 'logged_in', 'num_compromised', 'root_shell',\n",
      "       'su_attempted', 'num_root', 'num_file_creations', 'num_shells',\n",
      "       'num_access_files', 'num_outbound_cmds', 'is_host_login',\n",
      "       'is_guest_login', 'count', 'srv_count', 'serror_rate',\n",
      "       'srv_serror_rate', 'rerror_rate', 'srv_rerror_rate', 'same_srv_rate',\n",
      "       'diff_srv_rate', 'srv_diff_host_rate', 'dst_host_count',\n",
      "       'dst_host_srv_count', 'dst_host_same_srv_rate',\n",
      "       'dst_host_diff_srv_rate', 'dst_host_same_src_port_rate',\n",
      "       'dst_host_srv_diff_host_rate', 'dst_host_serror_rate',\n",
      "       'dst_host_srv_serror_rate', 'dst_host_rerror_rate',\n",
      "       'dst_host_srv_rerror_rate', 'label'],\n",
      "      dtype='object')\n",
      "Data Types: \n",
      "duration                         int64\n",
      "protocol_type                   object\n",
      "service                         object\n",
      "flag                            object\n",
      "src_bytes                        int64\n",
      "dst_bytes                        int64\n",
      "land                             int64\n",
      "wrong_fragment                   int64\n",
      "urgent                           int64\n",
      "hot                              int64\n",
      "num_failed_logins                int64\n",
      "logged_in                        int64\n",
      "num_compromised                  int64\n",
      "root_shell                       int64\n",
      "su_attempted                     int64\n",
      "num_root                         int64\n",
      "num_file_creations               int64\n",
      "num_shells                       int64\n",
      "num_access_files                 int64\n",
      "num_outbound_cmds                int64\n",
      "is_host_login                    int64\n",
      "is_guest_login                   int64\n",
      "count                            int64\n",
      "srv_count                        int64\n",
      "serror_rate                    float64\n",
      "srv_serror_rate                float64\n",
      "rerror_rate                    float64\n",
      "srv_rerror_rate                float64\n",
      "same_srv_rate                  float64\n",
      "diff_srv_rate                  float64\n",
      "srv_diff_host_rate             float64\n",
      "dst_host_count                   int64\n",
      "dst_host_srv_count               int64\n",
      "dst_host_same_srv_rate         float64\n",
      "dst_host_diff_srv_rate         float64\n",
      "dst_host_same_src_port_rate    float64\n",
      "dst_host_srv_diff_host_rate    float64\n",
      "dst_host_serror_rate           float64\n",
      "dst_host_srv_serror_rate       float64\n",
      "dst_host_rerror_rate           float64\n",
      "dst_host_srv_rerror_rate       float64\n",
      "label                           object\n",
      "dtype: object\n"
     ]
    }
   ],
   "source": [
    "#Shape of dataset\n",
    "print(\"Shape:\")\n",
    "print(df.shape)\n",
    "print(\"Columns:\")\n",
    "print(df.columns)\n",
    "print(\"Data Types: \")\n",
    "print(df.dtypes)\n",
    "\n"
   ]
  },
  {
   "cell_type": "code",
   "execution_count": 107,
   "metadata": {},
   "outputs": [
    {
     "name": "stdout",
     "output_type": "stream",
     "text": [
      "duration                             0\n",
      "protocol_type                      tcp\n",
      "service                           http\n",
      "flag                                SF\n",
      "src_bytes                          239\n",
      "dst_bytes                          486\n",
      "land                                 0\n",
      "wrong_fragment                       0\n",
      "urgent                               0\n",
      "hot                                  0\n",
      "num_failed_logins                    0\n",
      "logged_in                            1\n",
      "num_compromised                      0\n",
      "root_shell                           0\n",
      "su_attempted                         0\n",
      "num_root                             0\n",
      "num_file_creations                   0\n",
      "num_shells                           0\n",
      "num_access_files                     0\n",
      "num_outbound_cmds                    0\n",
      "is_host_login                        0\n",
      "is_guest_login                       0\n",
      "count                                8\n",
      "srv_count                            8\n",
      "serror_rate                        0.0\n",
      "srv_serror_rate                    0.0\n",
      "rerror_rate                        0.0\n",
      "srv_rerror_rate                    0.0\n",
      "same_srv_rate                      1.0\n",
      "diff_srv_rate                      0.0\n",
      "srv_diff_host_rate                 0.0\n",
      "dst_host_count                      19\n",
      "dst_host_srv_count                  19\n",
      "dst_host_same_srv_rate             1.0\n",
      "dst_host_diff_srv_rate             0.0\n",
      "dst_host_same_src_port_rate       0.05\n",
      "dst_host_srv_diff_host_rate        0.0\n",
      "dst_host_serror_rate               0.0\n",
      "dst_host_srv_serror_rate           0.0\n",
      "dst_host_rerror_rate               0.0\n",
      "dst_host_srv_rerror_rate           0.0\n",
      "label                          normal.\n",
      "Name: 1, dtype: object\n"
     ]
    }
   ],
   "source": [
    "# A look at the first entry\n",
    "print(df.iloc[1])"
   ]
  },
  {
   "cell_type": "markdown",
   "metadata": {},
   "source": [
    "# Preprocessing"
   ]
  },
  {
   "cell_type": "markdown",
   "metadata": {},
   "source": [
    "### Categorical vs Numeric Features"
   ]
  },
  {
   "cell_type": "code",
   "execution_count": null,
   "metadata": {},
   "outputs": [
    {
     "name": "stdout",
     "output_type": "stream",
     "text": [
      "Categorical columns: ['protocol_type', 'service', 'flag', 'label']\n",
      "Numeric columns: ['duration', 'src_bytes', 'dst_bytes', 'land', 'wrong_fragment', 'urgent', 'hot', 'num_failed_logins', 'logged_in', 'num_compromised', 'root_shell', 'su_attempted', 'num_root', 'num_file_creations', 'num_shells', 'num_access_files', 'num_outbound_cmds', 'is_host_login', 'is_guest_login', 'count', 'srv_count', 'serror_rate', 'srv_serror_rate', 'rerror_rate', 'srv_rerror_rate', 'same_srv_rate', 'diff_srv_rate', 'srv_diff_host_rate', 'dst_host_count', 'dst_host_srv_count', 'dst_host_same_srv_rate', 'dst_host_diff_srv_rate', 'dst_host_same_src_port_rate', 'dst_host_srv_diff_host_rate', 'dst_host_serror_rate', 'dst_host_srv_serror_rate', 'dst_host_rerror_rate', 'dst_host_srv_rerror_rate']\n"
     ]
    }
   ],
   "source": [
    "#Identify object-type (categorical or string) columns\n",
    "categorical_cols = df.select_dtypes(include='object').columns.tolist()\n",
    "\n",
    "#The remaining are usually numeric\n",
    "numeric_cols = df.select_dtypes(exclude='object').columns.tolist()\n",
    "\n",
    "print(\"Categorical columns:\", categorical_cols)\n",
    "print(\"Numeric columns:\", numeric_cols)\n"
   ]
  },
  {
   "cell_type": "markdown",
   "metadata": {},
   "source": [
    "### Missing Values"
   ]
  },
  {
   "cell_type": "code",
   "execution_count": 109,
   "metadata": {},
   "outputs": [
    {
     "name": "stdout",
     "output_type": "stream",
     "text": [
      "Series([], dtype: int64)\n"
     ]
    }
   ],
   "source": [
    "# Check for NaN-based missing values\n",
    "missing_counts = df.isnull().sum()\n",
    "print(missing_counts[missing_counts > 0])\n",
    "\n",
    "# Check for '?' in object columns\n",
    "for col in df.select_dtypes(include='object'):\n",
    "    if (df[col] == '?').any():\n",
    "        print(f\"Column '{col}' contains '?' values.\")\n",
    "\n"
   ]
  },
  {
   "cell_type": "markdown",
   "metadata": {},
   "source": [
    "No missing values!"
   ]
  },
  {
   "cell_type": "markdown",
   "metadata": {},
   "source": [
    "## Verify Binary Columns"
   ]
  },
  {
   "cell_type": "code",
   "execution_count": 110,
   "metadata": {},
   "outputs": [
    {
     "name": "stdout",
     "output_type": "stream",
     "text": [
      "['land', 'wrong_fragment', 'logged_in', 'root_shell', 'su_attempted', 'num_shells', 'num_outbound_cmds', 'is_host_login', 'is_guest_login']\n",
      "land: [np.int64(0), np.int64(1)]\n",
      "wrong_fragment: [np.int64(0), np.int64(1), np.int64(3)]\n",
      "logged_in: [np.int64(0), np.int64(1)]\n",
      "root_shell: [np.int64(0), np.int64(1)]\n",
      "su_attempted: [np.int64(0), np.int64(1), np.int64(2)]\n",
      "num_shells: [np.int64(0), np.int64(1), np.int64(2)]\n",
      "num_outbound_cmds: [np.int64(0)]\n",
      "is_host_login: [np.int64(0)]\n",
      "is_guest_login: [np.int64(0), np.int64(1)]\n"
     ]
    }
   ],
   "source": [
    "# Candidate binary columns: numeric + ≤ 3 unique values\n",
    "candidate_binary_cols = [col for col in df.columns\n",
    "                         if pd.api.types.is_numeric_dtype(df[col]) and\n",
    "                         df[col].nunique() <= 3]\n",
    "\n",
    "print(candidate_binary_cols)\n",
    "\n",
    "for col in candidate_binary_cols:\n",
    "    unique_vals = sorted(df[col].dropna().unique())\n",
    "    print(f\"{col}: {unique_vals}\")\n",
    "\n"
   ]
  },
  {
   "cell_type": "markdown",
   "metadata": {},
   "source": [
    "Error with su_attempted, should just be 2 columns"
   ]
  },
  {
   "cell_type": "code",
   "execution_count": null,
   "metadata": {},
   "outputs": [],
   "source": [
    "#Clean column\n",
    "\n",
    "df['su_attempted'] = df['su_attempted'].replace(2, 1)\n",
    "\n"
   ]
  },
  {
   "cell_type": "markdown",
   "metadata": {},
   "source": [
    "### Encode features"
   ]
  },
  {
   "cell_type": "code",
   "execution_count": 112,
   "metadata": {},
   "outputs": [],
   "source": [
    "#map attacks to their attack type\n",
    "attack_mapping = {\n",
    "    'back.': 'DoS',\n",
    "    'land.': 'DoS',\n",
    "    'neptune.': 'DoS',\n",
    "    'pod.': 'DoS',\n",
    "    'smurf.': 'DoS',\n",
    "    'teardrop.': 'DoS',\n",
    "    'mailbomb.': 'DoS',\n",
    "    'apache2.': 'DoS',\n",
    "    'processtable.': 'DoS',\n",
    "    'udpstorm.': 'DoS',\n",
    "\n",
    "    'satan.': 'Probe',\n",
    "    'ipsweep.': 'Probe',\n",
    "    'nmap.': 'Probe',\n",
    "    'portsweep.': 'Probe',\n",
    "    'mscan.': 'Probe',\n",
    "    'saint.': 'Probe',\n",
    "\n",
    "    'guess_passwd.': 'R2L',\n",
    "    'ftp_write.': 'R2L',\n",
    "    'imap.': 'R2L',\n",
    "    'phf.': 'R2L',\n",
    "    'multihop.': 'R2L',\n",
    "    'warezmaster.': 'R2L',\n",
    "    'warezclient.': 'R2L',\n",
    "    'spy.': 'R2L',\n",
    "    'xlock.': 'R2L',\n",
    "    'xsnoop.': 'R2L',\n",
    "    'snmpguess.': 'R2L',\n",
    "    'snmpgetattack.': 'R2L',\n",
    "    'httptunnel.': 'R2L',\n",
    "    'sendmail.': 'R2L',\n",
    "    'named.': 'R2L',\n",
    "\n",
    "    'buffer_overflow.': 'U2R',\n",
    "    'loadmodule.': 'U2R',\n",
    "    'rootkit.': 'U2R',\n",
    "    'perl.': 'U2R',\n",
    "    'sqlattack.': 'U2R',\n",
    "    'xterm.': 'U2R',\n",
    "    'ps.': 'U2R',\n",
    "\n",
    "    'normal.': 'Normal'\n",
    "}\n",
    "#assign type of attack one of 5 labels and place in \"attack_category\"\n",
    "df['attack_category'] = df['label'].map(attack_mapping)\n",
    "\n"
   ]
  },
  {
   "cell_type": "code",
   "execution_count": 113,
   "metadata": {},
   "outputs": [
    {
     "name": "stdout",
     "output_type": "stream",
     "text": [
      "  original_label  encoded_label\n",
      "0            DoS              0\n",
      "1         Normal              1\n",
      "2          Probe              2\n",
      "3            R2L              3\n",
      "4            U2R              4\n",
      "(494021, 120)\n"
     ]
    }
   ],
   "source": [
    "le = LabelEncoder()\n",
    "\n",
    "\n",
    "#preprocessing(categorical)\n",
    "df_encoded = df.copy()\n",
    "\n",
    "\n",
    "#one-hot encoding of service, protocol_type, and flag (creates new dimension for each different value of service, protocol_type, and flag)\n",
    "df_encoded = pd.get_dummies(df, columns=['service', 'protocol_type', 'flag'])\n",
    "# ^^ this is good for forest models, but might hurt the performance of SVM\n",
    "# PCA could be used to reduce the dimensionality for SVM\n",
    "\n",
    "#encode labels\n",
    "df_encoded['attack_category'] = le.fit_transform(df['attack_category'])  # replaces the string labels with integers\n",
    "\n",
    "label_mapping = dict(zip(le.classes_, le.transform(le.classes_)))\n",
    "\n",
    "label_mapping_df = pd.DataFrame({\n",
    "    'original_label': le.classes_,\n",
    "    'encoded_label': le.transform(le.classes_)\n",
    "})\n",
    "\n",
    "print(label_mapping_df)\n",
    "\n",
    "print(df_encoded.shape)\n",
    "#High dimensionality now!\n",
    "\n"
   ]
  },
  {
   "cell_type": "markdown",
   "metadata": {},
   "source": [
    "## Preprocessing(feature scaling)"
   ]
  },
  {
   "cell_type": "markdown",
   "metadata": {},
   "source": [
    "### Start by identifying features we DONT want to scale (binary and encoded columns)"
   ]
  },
  {
   "cell_type": "code",
   "execution_count": 115,
   "metadata": {},
   "outputs": [
    {
     "name": "stdout",
     "output_type": "stream",
     "text": [
      "['duration', 'src_bytes', 'dst_bytes', 'wrong_fragment', 'urgent', 'hot', 'num_failed_logins', 'num_compromised', 'num_root', 'num_file_creations', 'num_shells', 'num_access_files', 'num_outbound_cmds', 'is_host_login', 'count', 'srv_count', 'serror_rate', 'srv_serror_rate', 'rerror_rate', 'srv_rerror_rate', 'same_srv_rate', 'diff_srv_rate', 'srv_diff_host_rate', 'dst_host_count', 'dst_host_srv_count', 'dst_host_same_srv_rate', 'dst_host_diff_srv_rate', 'dst_host_same_src_port_rate', 'dst_host_srv_diff_host_rate', 'dst_host_serror_rate', 'dst_host_srv_serror_rate', 'dst_host_rerror_rate', 'dst_host_srv_rerror_rate']\n"
     ]
    }
   ],
   "source": [
    "# Identify binary columns separately\n",
    "binary_cols = [col for col in df_encoded.columns\n",
    "               if df_encoded[col].dropna().nunique() == 2 and set(df_encoded[col].dropna().unique()).issubset({0, 1})]\n",
    "\n",
    "# One-hot + label columns to exclude\n",
    "onehot_and_label_cols = [col for col in df_encoded.columns if (\n",
    "    col.startswith('service_') or \n",
    "    col.startswith('protocol_type_') or \n",
    "    col.startswith('flag_') or \n",
    "    col in ['label', 'attack_category', 'attack_category_encoded']\n",
    ")]\n",
    "\n",
    "# Combine all non-scalable columns\n",
    "non_scaled_cols = set(onehot_and_label_cols + binary_cols)\n",
    "\n",
    "# Select features to scale\n",
    "features_to_scale = [col for col in df_encoded.columns if col not in non_scaled_cols]\n",
    "\n",
    "print(features_to_scale)"
   ]
  },
  {
   "cell_type": "markdown",
   "metadata": {},
   "source": [
    "### Scale the features!"
   ]
  },
  {
   "cell_type": "code",
   "execution_count": 118,
   "metadata": {},
   "outputs": [
    {
     "data": {
      "text/html": [
       "<div>\n",
       "<style scoped>\n",
       "    .dataframe tbody tr th:only-of-type {\n",
       "        vertical-align: middle;\n",
       "    }\n",
       "\n",
       "    .dataframe tbody tr th {\n",
       "        vertical-align: top;\n",
       "    }\n",
       "\n",
       "    .dataframe thead th {\n",
       "        text-align: right;\n",
       "    }\n",
       "</style>\n",
       "<table border=\"1\" class=\"dataframe\">\n",
       "  <thead>\n",
       "    <tr style=\"text-align: right;\">\n",
       "      <th></th>\n",
       "      <th>mean</th>\n",
       "      <th>std</th>\n",
       "    </tr>\n",
       "  </thead>\n",
       "  <tbody>\n",
       "    <tr>\n",
       "      <th>duration</th>\n",
       "      <td>2.171810e-17</td>\n",
       "      <td>1.000001</td>\n",
       "    </tr>\n",
       "    <tr>\n",
       "      <th>src_bytes</th>\n",
       "      <td>6.508237e-19</td>\n",
       "      <td>1.000001</td>\n",
       "    </tr>\n",
       "    <tr>\n",
       "      <th>dst_bytes</th>\n",
       "      <td>4.717573e-18</td>\n",
       "      <td>1.000001</td>\n",
       "    </tr>\n",
       "    <tr>\n",
       "      <th>wrong_fragment</th>\n",
       "      <td>3.106694e-18</td>\n",
       "      <td>1.000001</td>\n",
       "    </tr>\n",
       "    <tr>\n",
       "      <th>urgent</th>\n",
       "      <td>2.277883e-18</td>\n",
       "      <td>1.000001</td>\n",
       "    </tr>\n",
       "    <tr>\n",
       "      <th>hot</th>\n",
       "      <td>-2.035173e-17</td>\n",
       "      <td>1.000001</td>\n",
       "    </tr>\n",
       "    <tr>\n",
       "      <th>num_failed_logins</th>\n",
       "      <td>-1.574922e-17</td>\n",
       "      <td>1.000001</td>\n",
       "    </tr>\n",
       "    <tr>\n",
       "      <th>num_compromised</th>\n",
       "      <td>-1.510199e-18</td>\n",
       "      <td>1.000001</td>\n",
       "    </tr>\n",
       "    <tr>\n",
       "      <th>num_root</th>\n",
       "      <td>-1.941684e-18</td>\n",
       "      <td>1.000001</td>\n",
       "    </tr>\n",
       "    <tr>\n",
       "      <th>num_file_creations</th>\n",
       "      <td>7.155465e-19</td>\n",
       "      <td>1.000001</td>\n",
       "    </tr>\n",
       "    <tr>\n",
       "      <th>num_shells</th>\n",
       "      <td>2.027981e-18</td>\n",
       "      <td>1.000001</td>\n",
       "    </tr>\n",
       "    <tr>\n",
       "      <th>num_access_files</th>\n",
       "      <td>1.064331e-18</td>\n",
       "      <td>1.000001</td>\n",
       "    </tr>\n",
       "    <tr>\n",
       "      <th>num_outbound_cmds</th>\n",
       "      <td>0.000000e+00</td>\n",
       "      <td>0.000000</td>\n",
       "    </tr>\n",
       "    <tr>\n",
       "      <th>is_host_login</th>\n",
       "      <td>0.000000e+00</td>\n",
       "      <td>0.000000</td>\n",
       "    </tr>\n",
       "    <tr>\n",
       "      <th>count</th>\n",
       "      <td>1.040167e-16</td>\n",
       "      <td>1.000001</td>\n",
       "    </tr>\n",
       "    <tr>\n",
       "      <th>srv_count</th>\n",
       "      <td>-2.365690e-16</td>\n",
       "      <td>1.000001</td>\n",
       "    </tr>\n",
       "    <tr>\n",
       "      <th>serror_rate</th>\n",
       "      <td>-7.087866e-17</td>\n",
       "      <td>1.000001</td>\n",
       "    </tr>\n",
       "    <tr>\n",
       "      <th>srv_serror_rate</th>\n",
       "      <td>-1.058577e-17</td>\n",
       "      <td>1.000001</td>\n",
       "    </tr>\n",
       "    <tr>\n",
       "      <th>rerror_rate</th>\n",
       "      <td>-2.287448e-16</td>\n",
       "      <td>1.000001</td>\n",
       "    </tr>\n",
       "    <tr>\n",
       "      <th>srv_rerror_rate</th>\n",
       "      <td>1.933054e-17</td>\n",
       "      <td>1.000001</td>\n",
       "    </tr>\n",
       "    <tr>\n",
       "      <th>same_srv_rate</th>\n",
       "      <td>-5.283682e-16</td>\n",
       "      <td>1.000001</td>\n",
       "    </tr>\n",
       "    <tr>\n",
       "      <th>diff_srv_rate</th>\n",
       "      <td>-9.481171e-17</td>\n",
       "      <td>1.000001</td>\n",
       "    </tr>\n",
       "    <tr>\n",
       "      <th>srv_diff_host_rate</th>\n",
       "      <td>-8.422594e-17</td>\n",
       "      <td>1.000001</td>\n",
       "    </tr>\n",
       "    <tr>\n",
       "      <th>dst_host_count</th>\n",
       "      <td>6.811715e-17</td>\n",
       "      <td>1.000001</td>\n",
       "    </tr>\n",
       "    <tr>\n",
       "      <th>dst_host_srv_count</th>\n",
       "      <td>-1.348536e-16</td>\n",
       "      <td>1.000001</td>\n",
       "    </tr>\n",
       "    <tr>\n",
       "      <th>dst_host_same_srv_rate</th>\n",
       "      <td>3.352929e-16</td>\n",
       "      <td>1.000001</td>\n",
       "    </tr>\n",
       "    <tr>\n",
       "      <th>dst_host_diff_srv_rate</th>\n",
       "      <td>5.488494e-17</td>\n",
       "      <td>1.000001</td>\n",
       "    </tr>\n",
       "    <tr>\n",
       "      <th>dst_host_same_src_port_rate</th>\n",
       "      <td>1.988284e-16</td>\n",
       "      <td>1.000001</td>\n",
       "    </tr>\n",
       "    <tr>\n",
       "      <th>dst_host_srv_diff_host_rate</th>\n",
       "      <td>2.807531e-17</td>\n",
       "      <td>1.000001</td>\n",
       "    </tr>\n",
       "    <tr>\n",
       "      <th>dst_host_serror_rate</th>\n",
       "      <td>3.129707e-17</td>\n",
       "      <td>1.000001</td>\n",
       "    </tr>\n",
       "    <tr>\n",
       "      <th>dst_host_srv_serror_rate</th>\n",
       "      <td>-5.983263e-17</td>\n",
       "      <td>1.000001</td>\n",
       "    </tr>\n",
       "    <tr>\n",
       "      <th>dst_host_rerror_rate</th>\n",
       "      <td>1.822594e-16</td>\n",
       "      <td>1.000001</td>\n",
       "    </tr>\n",
       "    <tr>\n",
       "      <th>dst_host_srv_rerror_rate</th>\n",
       "      <td>-5.845188e-17</td>\n",
       "      <td>1.000001</td>\n",
       "    </tr>\n",
       "  </tbody>\n",
       "</table>\n",
       "</div>"
      ],
      "text/plain": [
       "                                     mean       std\n",
       "duration                     2.171810e-17  1.000001\n",
       "src_bytes                    6.508237e-19  1.000001\n",
       "dst_bytes                    4.717573e-18  1.000001\n",
       "wrong_fragment               3.106694e-18  1.000001\n",
       "urgent                       2.277883e-18  1.000001\n",
       "hot                         -2.035173e-17  1.000001\n",
       "num_failed_logins           -1.574922e-17  1.000001\n",
       "num_compromised             -1.510199e-18  1.000001\n",
       "num_root                    -1.941684e-18  1.000001\n",
       "num_file_creations           7.155465e-19  1.000001\n",
       "num_shells                   2.027981e-18  1.000001\n",
       "num_access_files             1.064331e-18  1.000001\n",
       "num_outbound_cmds            0.000000e+00  0.000000\n",
       "is_host_login                0.000000e+00  0.000000\n",
       "count                        1.040167e-16  1.000001\n",
       "srv_count                   -2.365690e-16  1.000001\n",
       "serror_rate                 -7.087866e-17  1.000001\n",
       "srv_serror_rate             -1.058577e-17  1.000001\n",
       "rerror_rate                 -2.287448e-16  1.000001\n",
       "srv_rerror_rate              1.933054e-17  1.000001\n",
       "same_srv_rate               -5.283682e-16  1.000001\n",
       "diff_srv_rate               -9.481171e-17  1.000001\n",
       "srv_diff_host_rate          -8.422594e-17  1.000001\n",
       "dst_host_count               6.811715e-17  1.000001\n",
       "dst_host_srv_count          -1.348536e-16  1.000001\n",
       "dst_host_same_srv_rate       3.352929e-16  1.000001\n",
       "dst_host_diff_srv_rate       5.488494e-17  1.000001\n",
       "dst_host_same_src_port_rate  1.988284e-16  1.000001\n",
       "dst_host_srv_diff_host_rate  2.807531e-17  1.000001\n",
       "dst_host_serror_rate         3.129707e-17  1.000001\n",
       "dst_host_srv_serror_rate    -5.983263e-17  1.000001\n",
       "dst_host_rerror_rate         1.822594e-16  1.000001\n",
       "dst_host_srv_rerror_rate    -5.845188e-17  1.000001"
      ]
     },
     "execution_count": 118,
     "metadata": {},
     "output_type": "execute_result"
    }
   ],
   "source": [
    "scaler = StandardScaler()\n",
    "df_encoded[features_to_scale] = scaler.fit_transform(df_encoded[features_to_scale])\n",
    "df_encoded[features_to_scale].describe().T[['mean', 'std']]\n",
    "\n"
   ]
  }
 ],
 "metadata": {
  "kernelspec": {
   "display_name": "Python 3",
   "language": "python",
   "name": "python3"
  },
  "language_info": {
   "codemirror_mode": {
    "name": "ipython",
    "version": 3
   },
   "file_extension": ".py",
   "mimetype": "text/x-python",
   "name": "python",
   "nbconvert_exporter": "python",
   "pygments_lexer": "ipython3",
   "version": "3.9.6"
  }
 },
 "nbformat": 4,
 "nbformat_minor": 2
}
